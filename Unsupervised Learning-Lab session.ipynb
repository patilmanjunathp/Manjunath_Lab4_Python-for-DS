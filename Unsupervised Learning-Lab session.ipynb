{
 "cells": [
  {
   "cell_type": "markdown",
   "id": "83f26a29",
   "metadata": {
    "id": "83f26a29"
   },
   "source": [
    "# Unsupervised Lab Session"
   ]
  },
  {
   "cell_type": "markdown",
   "id": "8ea571d1",
   "metadata": {
    "id": "8ea571d1"
   },
   "source": [
    "## Learning outcomes:\n",
    "- Exploratory data analysis and data preparation for model building.\n",
    "- PCA for dimensionality reduction.\n",
    "- K-means and Agglomerative Clustering"
   ]
  },
  {
   "cell_type": "markdown",
   "id": "fd7f778a",
   "metadata": {
    "id": "fd7f778a"
   },
   "source": [
    "## Problem Statement\n",
    "Based on the given marketing campigan dataset, segment the similar customers into suitable clusters. Analyze the clusters and provide your insights to help the organization promote their business."
   ]
  },
  {
   "cell_type": "markdown",
   "id": "33b58f8f",
   "metadata": {
    "id": "33b58f8f"
   },
   "source": [
    "## Context:\n",
    "- Customer Personality Analysis is a detailed analysis of a company’s ideal customers. It helps a business to better understand its customers and makes it easier for them to modify products according to the specific needs, behaviors and concerns of different types of customers.\n",
    "- Customer personality analysis helps a business to modify its product based on its target customers from different types of customer segments. For example, instead of spending money to market a new product to every customer in the company’s database, a company can analyze which customer segment is most likely to buy the product and then market the product only on that particular segment."
   ]
  },
  {
   "cell_type": "markdown",
   "id": "867166aa",
   "metadata": {
    "id": "867166aa"
   },
   "source": [
    "## About dataset\n",
    "- Source: https://www.kaggle.com/datasets/imakash3011/customer-personality-analysis?datasetId=1546318&sortBy=voteCount\n",
    "\n",
    "### Attribute Information:\n",
    "- ID: Customer's unique identifier\n",
    "- Year_Birth: Customer's birth year\n",
    "- Education: Customer's education level\n",
    "- Marital_Status: Customer's marital status\n",
    "- Income: Customer's yearly household income\n",
    "- Kidhome: Number of children in customer's household\n",
    "- Teenhome: Number of teenagers in customer's household\n",
    "- Dt_Customer: Date of customer's enrollment with the company\n",
    "- Recency: Number of days since customer's last purchase\n",
    "- Complain: 1 if the customer complained in the last 2 years, 0 otherwise\n",
    "- MntWines: Amount spent on wine in last 2 years\n",
    "- MntFruits: Amount spent on fruits in last 2 years\n",
    "- MntMeatProducts: Amount spent on meat in last 2 years\n",
    "- MntFishProducts: Amount spent on fish in last 2 years\n",
    "- MntSweetProducts: Amount spent on sweets in last 2 years\n",
    "- MntGoldProds: Amount spent on gold in last 2 years\n",
    "- NumDealsPurchases: Number of purchases made with a discount\n",
    "- AcceptedCmp1: 1 if customer accepted the offer in the 1st campaign, 0 otherwise\n",
    "- AcceptedCmp2: 1 if customer accepted the offer in the 2nd campaign, 0 otherwise\n",
    "- AcceptedCmp3: 1 if customer accepted the offer in the 3rd campaign, 0 otherwise\n",
    "- AcceptedCmp4: 1 if customer accepted the offer in the 4th campaign, 0 otherwise\n",
    "- AcceptedCmp5: 1 if customer accepted the offer in the 5th campaign, 0 otherwise\n",
    "- Response: 1 if customer accepted the offer in the last campaign, 0 otherwise\n",
    "- NumWebPurchases: Number of purchases made through the company’s website\n",
    "- NumCatalogPurchases: Number of purchases made using a catalogue\n",
    "- NumStorePurchases: Number of purchases made directly in stores\n",
    "- NumWebVisitsMonth: Number of visits to company’s website in the last month"
   ]
  },
  {
   "cell_type": "markdown",
   "id": "5a830406",
   "metadata": {
    "id": "5a830406"
   },
   "source": [
    "### 1. Import required libraries"
   ]
  },
  {
   "cell_type": "code",
   "execution_count": 40,
   "id": "d65c5528",
   "metadata": {
    "id": "d65c5528"
   },
   "outputs": [],
   "source": [
    "import numpy as np\n",
    "import pandas as pd\n",
    "import matplotlib.pyplot as plt\n",
    "import seaborn as sns"
   ]
  },
  {
   "cell_type": "markdown",
   "id": "c80eb960",
   "metadata": {
    "id": "c80eb960"
   },
   "source": [
    "### 2. Load the CSV file (i.e marketing.csv) and display the first 5 rows of the dataframe. Check the shape and info of the dataset."
   ]
  },
  {
   "cell_type": "code",
   "execution_count": 41,
   "id": "1caebc10",
   "metadata": {
    "id": "1caebc10"
   },
   "outputs": [
    {
     "data": {
      "text/html": [
       "<div>\n",
       "<style scoped>\n",
       "    .dataframe tbody tr th:only-of-type {\n",
       "        vertical-align: middle;\n",
       "    }\n",
       "\n",
       "    .dataframe tbody tr th {\n",
       "        vertical-align: top;\n",
       "    }\n",
       "\n",
       "    .dataframe thead th {\n",
       "        text-align: right;\n",
       "    }\n",
       "</style>\n",
       "<table border=\"1\" class=\"dataframe\">\n",
       "  <thead>\n",
       "    <tr style=\"text-align: right;\">\n",
       "      <th></th>\n",
       "      <th>ID</th>\n",
       "      <th>Year_Birth</th>\n",
       "      <th>Education</th>\n",
       "      <th>Marital_Status</th>\n",
       "      <th>Income</th>\n",
       "      <th>Kidhome</th>\n",
       "      <th>Teenhome</th>\n",
       "      <th>Dt_Customer</th>\n",
       "      <th>Recency</th>\n",
       "      <th>MntWines</th>\n",
       "      <th>...</th>\n",
       "      <th>NumCatalogPurchases</th>\n",
       "      <th>NumStorePurchases</th>\n",
       "      <th>NumWebVisitsMonth</th>\n",
       "      <th>AcceptedCmp3</th>\n",
       "      <th>AcceptedCmp4</th>\n",
       "      <th>AcceptedCmp5</th>\n",
       "      <th>AcceptedCmp1</th>\n",
       "      <th>AcceptedCmp2</th>\n",
       "      <th>Complain</th>\n",
       "      <th>Response</th>\n",
       "    </tr>\n",
       "  </thead>\n",
       "  <tbody>\n",
       "    <tr>\n",
       "      <th>0</th>\n",
       "      <td>5524</td>\n",
       "      <td>1957</td>\n",
       "      <td>Graduation</td>\n",
       "      <td>Single</td>\n",
       "      <td>58138.0</td>\n",
       "      <td>0</td>\n",
       "      <td>0</td>\n",
       "      <td>4/9/2012</td>\n",
       "      <td>58</td>\n",
       "      <td>635</td>\n",
       "      <td>...</td>\n",
       "      <td>10</td>\n",
       "      <td>4</td>\n",
       "      <td>7</td>\n",
       "      <td>0</td>\n",
       "      <td>0</td>\n",
       "      <td>0</td>\n",
       "      <td>0</td>\n",
       "      <td>0</td>\n",
       "      <td>0</td>\n",
       "      <td>1</td>\n",
       "    </tr>\n",
       "    <tr>\n",
       "      <th>1</th>\n",
       "      <td>2174</td>\n",
       "      <td>1954</td>\n",
       "      <td>Graduation</td>\n",
       "      <td>Single</td>\n",
       "      <td>46344.0</td>\n",
       "      <td>1</td>\n",
       "      <td>1</td>\n",
       "      <td>8/3/2014</td>\n",
       "      <td>38</td>\n",
       "      <td>11</td>\n",
       "      <td>...</td>\n",
       "      <td>1</td>\n",
       "      <td>2</td>\n",
       "      <td>5</td>\n",
       "      <td>0</td>\n",
       "      <td>0</td>\n",
       "      <td>0</td>\n",
       "      <td>0</td>\n",
       "      <td>0</td>\n",
       "      <td>0</td>\n",
       "      <td>0</td>\n",
       "    </tr>\n",
       "    <tr>\n",
       "      <th>2</th>\n",
       "      <td>4141</td>\n",
       "      <td>1965</td>\n",
       "      <td>Graduation</td>\n",
       "      <td>Together</td>\n",
       "      <td>71613.0</td>\n",
       "      <td>0</td>\n",
       "      <td>0</td>\n",
       "      <td>21-08-2013</td>\n",
       "      <td>26</td>\n",
       "      <td>426</td>\n",
       "      <td>...</td>\n",
       "      <td>2</td>\n",
       "      <td>10</td>\n",
       "      <td>4</td>\n",
       "      <td>0</td>\n",
       "      <td>0</td>\n",
       "      <td>0</td>\n",
       "      <td>0</td>\n",
       "      <td>0</td>\n",
       "      <td>0</td>\n",
       "      <td>0</td>\n",
       "    </tr>\n",
       "    <tr>\n",
       "      <th>3</th>\n",
       "      <td>6182</td>\n",
       "      <td>1984</td>\n",
       "      <td>Graduation</td>\n",
       "      <td>Together</td>\n",
       "      <td>26646.0</td>\n",
       "      <td>1</td>\n",
       "      <td>0</td>\n",
       "      <td>10/2/2014</td>\n",
       "      <td>26</td>\n",
       "      <td>11</td>\n",
       "      <td>...</td>\n",
       "      <td>0</td>\n",
       "      <td>4</td>\n",
       "      <td>6</td>\n",
       "      <td>0</td>\n",
       "      <td>0</td>\n",
       "      <td>0</td>\n",
       "      <td>0</td>\n",
       "      <td>0</td>\n",
       "      <td>0</td>\n",
       "      <td>0</td>\n",
       "    </tr>\n",
       "    <tr>\n",
       "      <th>4</th>\n",
       "      <td>5324</td>\n",
       "      <td>1981</td>\n",
       "      <td>PhD</td>\n",
       "      <td>Married</td>\n",
       "      <td>58293.0</td>\n",
       "      <td>1</td>\n",
       "      <td>0</td>\n",
       "      <td>19-01-2014</td>\n",
       "      <td>94</td>\n",
       "      <td>173</td>\n",
       "      <td>...</td>\n",
       "      <td>3</td>\n",
       "      <td>6</td>\n",
       "      <td>5</td>\n",
       "      <td>0</td>\n",
       "      <td>0</td>\n",
       "      <td>0</td>\n",
       "      <td>0</td>\n",
       "      <td>0</td>\n",
       "      <td>0</td>\n",
       "      <td>0</td>\n",
       "    </tr>\n",
       "  </tbody>\n",
       "</table>\n",
       "<p>5 rows × 27 columns</p>\n",
       "</div>"
      ],
      "text/plain": [
       "     ID  Year_Birth   Education Marital_Status   Income  Kidhome  Teenhome  \\\n",
       "0  5524        1957  Graduation         Single  58138.0        0         0   \n",
       "1  2174        1954  Graduation         Single  46344.0        1         1   \n",
       "2  4141        1965  Graduation       Together  71613.0        0         0   \n",
       "3  6182        1984  Graduation       Together  26646.0        1         0   \n",
       "4  5324        1981         PhD        Married  58293.0        1         0   \n",
       "\n",
       "  Dt_Customer  Recency  MntWines  ...  NumCatalogPurchases  NumStorePurchases  \\\n",
       "0    4/9/2012       58       635  ...                   10                  4   \n",
       "1    8/3/2014       38        11  ...                    1                  2   \n",
       "2  21-08-2013       26       426  ...                    2                 10   \n",
       "3   10/2/2014       26        11  ...                    0                  4   \n",
       "4  19-01-2014       94       173  ...                    3                  6   \n",
       "\n",
       "   NumWebVisitsMonth  AcceptedCmp3  AcceptedCmp4  AcceptedCmp5  AcceptedCmp1  \\\n",
       "0                  7             0             0             0             0   \n",
       "1                  5             0             0             0             0   \n",
       "2                  4             0             0             0             0   \n",
       "3                  6             0             0             0             0   \n",
       "4                  5             0             0             0             0   \n",
       "\n",
       "   AcceptedCmp2  Complain  Response  \n",
       "0             0         0         1  \n",
       "1             0         0         0  \n",
       "2             0         0         0  \n",
       "3             0         0         0  \n",
       "4             0         0         0  \n",
       "\n",
       "[5 rows x 27 columns]"
      ]
     },
     "execution_count": 41,
     "metadata": {},
     "output_type": "execute_result"
    }
   ],
   "source": [
    "df = pd.read_csv(r'marketing.csv')\n",
    "df.head()"
   ]
  },
  {
   "cell_type": "code",
   "execution_count": 42,
   "id": "04a81d3a",
   "metadata": {},
   "outputs": [
    {
     "data": {
      "text/plain": [
       "(2240, 27)"
      ]
     },
     "execution_count": 42,
     "metadata": {},
     "output_type": "execute_result"
    }
   ],
   "source": [
    "#Shape\n",
    "df.shape"
   ]
  },
  {
   "cell_type": "code",
   "execution_count": 43,
   "id": "624a8d61",
   "metadata": {},
   "outputs": [
    {
     "name": "stdout",
     "output_type": "stream",
     "text": [
      "<class 'pandas.core.frame.DataFrame'>\n",
      "RangeIndex: 2240 entries, 0 to 2239\n",
      "Data columns (total 27 columns):\n",
      " #   Column               Non-Null Count  Dtype  \n",
      "---  ------               --------------  -----  \n",
      " 0   ID                   2240 non-null   int64  \n",
      " 1   Year_Birth           2240 non-null   int64  \n",
      " 2   Education            2240 non-null   object \n",
      " 3   Marital_Status       2240 non-null   object \n",
      " 4   Income               2216 non-null   float64\n",
      " 5   Kidhome              2240 non-null   int64  \n",
      " 6   Teenhome             2240 non-null   int64  \n",
      " 7   Dt_Customer          2240 non-null   object \n",
      " 8   Recency              2240 non-null   int64  \n",
      " 9   MntWines             2240 non-null   int64  \n",
      " 10  MntFruits            2240 non-null   int64  \n",
      " 11  MntMeatProducts      2240 non-null   int64  \n",
      " 12  MntFishProducts      2240 non-null   int64  \n",
      " 13  MntSweetProducts     2240 non-null   int64  \n",
      " 14  MntGoldProds         2240 non-null   int64  \n",
      " 15  NumDealsPurchases    2240 non-null   int64  \n",
      " 16  NumWebPurchases      2240 non-null   int64  \n",
      " 17  NumCatalogPurchases  2240 non-null   int64  \n",
      " 18  NumStorePurchases    2240 non-null   int64  \n",
      " 19  NumWebVisitsMonth    2240 non-null   int64  \n",
      " 20  AcceptedCmp3         2240 non-null   int64  \n",
      " 21  AcceptedCmp4         2240 non-null   int64  \n",
      " 22  AcceptedCmp5         2240 non-null   int64  \n",
      " 23  AcceptedCmp1         2240 non-null   int64  \n",
      " 24  AcceptedCmp2         2240 non-null   int64  \n",
      " 25  Complain             2240 non-null   int64  \n",
      " 26  Response             2240 non-null   int64  \n",
      "dtypes: float64(1), int64(23), object(3)\n",
      "memory usage: 472.6+ KB\n"
     ]
    }
   ],
   "source": [
    "#Info\n",
    "df.info()"
   ]
  },
  {
   "cell_type": "markdown",
   "id": "9ef75724",
   "metadata": {
    "id": "9ef75724"
   },
   "source": [
    "### 3. Check the percentage of missing values? If there is presence of missing values, treat them accordingly."
   ]
  },
  {
   "cell_type": "code",
   "execution_count": 44,
   "id": "f2c231df",
   "metadata": {
    "id": "f2c231df"
   },
   "outputs": [
    {
     "data": {
      "text/plain": [
       "ID                     0.000000\n",
       "Year_Birth             0.000000\n",
       "Education              0.000000\n",
       "Marital_Status         0.000000\n",
       "Income                 1.071429\n",
       "Kidhome                0.000000\n",
       "Teenhome               0.000000\n",
       "Dt_Customer            0.000000\n",
       "Recency                0.000000\n",
       "MntWines               0.000000\n",
       "MntFruits              0.000000\n",
       "MntMeatProducts        0.000000\n",
       "MntFishProducts        0.000000\n",
       "MntSweetProducts       0.000000\n",
       "MntGoldProds           0.000000\n",
       "NumDealsPurchases      0.000000\n",
       "NumWebPurchases        0.000000\n",
       "NumCatalogPurchases    0.000000\n",
       "NumStorePurchases      0.000000\n",
       "NumWebVisitsMonth      0.000000\n",
       "AcceptedCmp3           0.000000\n",
       "AcceptedCmp4           0.000000\n",
       "AcceptedCmp5           0.000000\n",
       "AcceptedCmp1           0.000000\n",
       "AcceptedCmp2           0.000000\n",
       "Complain               0.000000\n",
       "Response               0.000000\n",
       "dtype: float64"
      ]
     },
     "execution_count": 44,
     "metadata": {},
     "output_type": "execute_result"
    }
   ],
   "source": [
    "df.isnull().sum()/len(df)*100"
   ]
  },
  {
   "cell_type": "code",
   "execution_count": null,
   "id": "ac90cd3b",
   "metadata": {},
   "outputs": [],
   "source": [
    "#Income has 1.07% of missing values"
   ]
  },
  {
   "cell_type": "markdown",
   "id": "86f3709e",
   "metadata": {
    "id": "86f3709e"
   },
   "source": [
    "### 4. Check if there are any duplicate records in the dataset? If any drop them."
   ]
  },
  {
   "cell_type": "code",
   "execution_count": 45,
   "id": "2970671a",
   "metadata": {
    "id": "2970671a"
   },
   "outputs": [
    {
     "data": {
      "text/html": [
       "<div>\n",
       "<style scoped>\n",
       "    .dataframe tbody tr th:only-of-type {\n",
       "        vertical-align: middle;\n",
       "    }\n",
       "\n",
       "    .dataframe tbody tr th {\n",
       "        vertical-align: top;\n",
       "    }\n",
       "\n",
       "    .dataframe thead th {\n",
       "        text-align: right;\n",
       "    }\n",
       "</style>\n",
       "<table border=\"1\" class=\"dataframe\">\n",
       "  <thead>\n",
       "    <tr style=\"text-align: right;\">\n",
       "      <th></th>\n",
       "      <th>ID</th>\n",
       "      <th>Year_Birth</th>\n",
       "      <th>Education</th>\n",
       "      <th>Marital_Status</th>\n",
       "      <th>Income</th>\n",
       "      <th>Kidhome</th>\n",
       "      <th>Teenhome</th>\n",
       "      <th>Dt_Customer</th>\n",
       "      <th>Recency</th>\n",
       "      <th>MntWines</th>\n",
       "      <th>...</th>\n",
       "      <th>NumCatalogPurchases</th>\n",
       "      <th>NumStorePurchases</th>\n",
       "      <th>NumWebVisitsMonth</th>\n",
       "      <th>AcceptedCmp3</th>\n",
       "      <th>AcceptedCmp4</th>\n",
       "      <th>AcceptedCmp5</th>\n",
       "      <th>AcceptedCmp1</th>\n",
       "      <th>AcceptedCmp2</th>\n",
       "      <th>Complain</th>\n",
       "      <th>Response</th>\n",
       "    </tr>\n",
       "  </thead>\n",
       "  <tbody>\n",
       "  </tbody>\n",
       "</table>\n",
       "<p>0 rows × 27 columns</p>\n",
       "</div>"
      ],
      "text/plain": [
       "Empty DataFrame\n",
       "Columns: [ID, Year_Birth, Education, Marital_Status, Income, Kidhome, Teenhome, Dt_Customer, Recency, MntWines, MntFruits, MntMeatProducts, MntFishProducts, MntSweetProducts, MntGoldProds, NumDealsPurchases, NumWebPurchases, NumCatalogPurchases, NumStorePurchases, NumWebVisitsMonth, AcceptedCmp3, AcceptedCmp4, AcceptedCmp5, AcceptedCmp1, AcceptedCmp2, Complain, Response]\n",
       "Index: []\n",
       "\n",
       "[0 rows x 27 columns]"
      ]
     },
     "execution_count": 45,
     "metadata": {},
     "output_type": "execute_result"
    }
   ],
   "source": [
    "df[df.duplicated()]"
   ]
  },
  {
   "cell_type": "code",
   "execution_count": null,
   "id": "213a9ad9",
   "metadata": {},
   "outputs": [],
   "source": [
    "# no duplicates present in dataset"
   ]
  },
  {
   "cell_type": "markdown",
   "id": "3a6f2b5a",
   "metadata": {
    "id": "3a6f2b5a"
   },
   "source": [
    "### 5. Drop the columns which you think redundant for the analysis "
   ]
  },
  {
   "cell_type": "code",
   "execution_count": 46,
   "id": "a9ca818b",
   "metadata": {
    "id": "a9ca818b"
   },
   "outputs": [
    {
     "data": {
      "text/plain": [
       "Index(['ID', 'Year_Birth', 'Education', 'Marital_Status', 'Income', 'Kidhome',\n",
       "       'Teenhome', 'Dt_Customer', 'Recency', 'MntWines', 'MntFruits',\n",
       "       'MntMeatProducts', 'MntFishProducts', 'MntSweetProducts',\n",
       "       'MntGoldProds', 'NumDealsPurchases', 'NumWebPurchases',\n",
       "       'NumCatalogPurchases', 'NumStorePurchases', 'NumWebVisitsMonth',\n",
       "       'AcceptedCmp3', 'AcceptedCmp4', 'AcceptedCmp5', 'AcceptedCmp1',\n",
       "       'AcceptedCmp2', 'Complain', 'Response'],\n",
       "      dtype='object')"
      ]
     },
     "execution_count": 46,
     "metadata": {},
     "output_type": "execute_result"
    }
   ],
   "source": [
    "df.columns"
   ]
  },
  {
   "cell_type": "code",
   "execution_count": 47,
   "id": "083d422b",
   "metadata": {},
   "outputs": [],
   "source": [
    "df = df.drop(['ID','Dt_Customer'], axis=1)"
   ]
  },
  {
   "cell_type": "code",
   "execution_count": 10,
   "id": "83ac49e7",
   "metadata": {},
   "outputs": [],
   "source": [
    "#Dropping ID and Dt_Customer since those are the only columns that seems may not be used for clustering"
   ]
  },
  {
   "cell_type": "markdown",
   "id": "4ff0a112",
   "metadata": {
    "id": "4ff0a112"
   },
   "source": [
    "### 6. Check the unique categories in the column 'Marital_Status'\n",
    "- i) Group categories 'Married', 'Together' as 'relationship'\n",
    "- ii) Group categories 'Divorced', 'Widow', 'Alone', 'YOLO', and 'Absurd' as 'Single'."
   ]
  },
  {
   "cell_type": "code",
   "execution_count": 48,
   "id": "eb1be519",
   "metadata": {
    "id": "eb1be519"
   },
   "outputs": [
    {
     "data": {
      "text/plain": [
       "array(['Single', 'Together', 'Married', 'Divorced', 'Widow', 'Alone',\n",
       "       'Absurd', 'YOLO'], dtype=object)"
      ]
     },
     "execution_count": 48,
     "metadata": {},
     "output_type": "execute_result"
    }
   ],
   "source": [
    "#Unique categories in column Marital_Status\n",
    "df['Marital_Status'].unique()"
   ]
  },
  {
   "cell_type": "code",
   "execution_count": 49,
   "id": "a0469a41",
   "metadata": {},
   "outputs": [],
   "source": [
    "#Group categories 'Divorced', 'Widow', 'Alone', 'YOLO', and 'Absurd' as 'Single'.\n",
    "df['Marital_Status'] = df['Marital_Status'].replace(['Divorced', 'Widow', 'Alone', 'YOLO', 'Absurd'],'Single')"
   ]
  },
  {
   "cell_type": "code",
   "execution_count": 50,
   "id": "e2c53541",
   "metadata": {},
   "outputs": [],
   "source": [
    "#Group categories 'Married', 'Together' as 'relationship'\n",
    "df['Marital_Status'] = df['Marital_Status'].replace(['Married', 'Together'],'relationship')"
   ]
  },
  {
   "cell_type": "code",
   "execution_count": 51,
   "id": "94114858",
   "metadata": {},
   "outputs": [
    {
     "data": {
      "text/plain": [
       "array(['Single', 'relationship'], dtype=object)"
      ]
     },
     "execution_count": 51,
     "metadata": {},
     "output_type": "execute_result"
    }
   ],
   "source": [
    "df['Marital_Status'].unique()"
   ]
  },
  {
   "cell_type": "markdown",
   "id": "9566bfbe",
   "metadata": {
    "id": "9566bfbe"
   },
   "source": [
    "### 7. Group the columns 'MntWines', 'MntFruits', 'MntMeatProducts', 'MntFishProducts', 'MntSweetProducts', and 'MntGoldProds' as 'Total_Expenses'"
   ]
  },
  {
   "cell_type": "code",
   "execution_count": 52,
   "id": "3c3fa800",
   "metadata": {
    "id": "3c3fa800"
   },
   "outputs": [],
   "source": [
    "column_series = pd.Series(df.columns)"
   ]
  },
  {
   "cell_type": "code",
   "execution_count": 53,
   "id": "eb572519",
   "metadata": {},
   "outputs": [],
   "source": [
    "req_columns = column_series[column_series.str.contains('Mnt')].values.tolist()"
   ]
  },
  {
   "cell_type": "code",
   "execution_count": 54,
   "id": "6563306c",
   "metadata": {},
   "outputs": [],
   "source": [
    "df['Total_Expenses'] = df[req_columns].sum(axis=1)"
   ]
  },
  {
   "cell_type": "code",
   "execution_count": 55,
   "id": "98e58700",
   "metadata": {},
   "outputs": [
    {
     "data": {
      "text/plain": [
       "0       1617\n",
       "1         27\n",
       "2        776\n",
       "3         53\n",
       "4        422\n",
       "        ... \n",
       "2235    1341\n",
       "2236     444\n",
       "2237    1241\n",
       "2238     843\n",
       "2239     172\n",
       "Name: Total_Expenses, Length: 2240, dtype: int64"
      ]
     },
     "execution_count": 55,
     "metadata": {},
     "output_type": "execute_result"
    }
   ],
   "source": [
    "df['Total_Expenses']"
   ]
  },
  {
   "cell_type": "markdown",
   "id": "bf0cd083",
   "metadata": {
    "id": "bf0cd083"
   },
   "source": [
    "### 8. Group the columns 'NumWebPurchases', 'NumCatalogPurchases', 'NumStorePurchases', and 'NumDealsPurchases' as 'Num_Total_Purchases'"
   ]
  },
  {
   "cell_type": "code",
   "execution_count": 56,
   "id": "9c535ede",
   "metadata": {
    "id": "9c535ede"
   },
   "outputs": [],
   "source": [
    "column_series = pd.Series(df.columns)"
   ]
  },
  {
   "cell_type": "code",
   "execution_count": 57,
   "id": "2e062b31",
   "metadata": {},
   "outputs": [],
   "source": [
    "req_columns = column_series[column_series.str.contains('Num.*Purchases')].values.tolist()"
   ]
  },
  {
   "cell_type": "code",
   "execution_count": 58,
   "id": "e217de3f",
   "metadata": {},
   "outputs": [],
   "source": [
    "df['Num_Total_Purchases'] = df[req_columns].sum(axis=1)"
   ]
  },
  {
   "cell_type": "code",
   "execution_count": 59,
   "id": "4b357ad8",
   "metadata": {},
   "outputs": [
    {
     "data": {
      "text/plain": [
       "0       25\n",
       "1        6\n",
       "2       21\n",
       "3        8\n",
       "4       19\n",
       "        ..\n",
       "2235    18\n",
       "2236    22\n",
       "2237    19\n",
       "2238    23\n",
       "2239    11\n",
       "Name: Num_Total_Purchases, Length: 2240, dtype: int64"
      ]
     },
     "execution_count": 59,
     "metadata": {},
     "output_type": "execute_result"
    }
   ],
   "source": [
    "df['Num_Total_Purchases']"
   ]
  },
  {
   "cell_type": "markdown",
   "id": "52d2dca5",
   "metadata": {
    "id": "52d2dca5"
   },
   "source": [
    "### 9. Group the columns 'Kidhome' and 'Teenhome' as 'Kids'"
   ]
  },
  {
   "cell_type": "code",
   "execution_count": 60,
   "id": "f7c861a1",
   "metadata": {
    "id": "f7c861a1"
   },
   "outputs": [],
   "source": [
    "column_series = pd.Series(df.columns)"
   ]
  },
  {
   "cell_type": "code",
   "execution_count": 61,
   "id": "0dc33723",
   "metadata": {},
   "outputs": [],
   "source": [
    "req_columns = column_series[column_series.str.contains('home')].values.tolist()"
   ]
  },
  {
   "cell_type": "code",
   "execution_count": 62,
   "id": "9ea79897",
   "metadata": {},
   "outputs": [],
   "source": [
    "df['Kids'] = df[req_columns].sum(axis=1)"
   ]
  },
  {
   "cell_type": "code",
   "execution_count": 63,
   "id": "0b994a81",
   "metadata": {},
   "outputs": [
    {
     "data": {
      "text/plain": [
       "0       0\n",
       "1       2\n",
       "2       0\n",
       "3       1\n",
       "4       1\n",
       "       ..\n",
       "2235    1\n",
       "2236    3\n",
       "2237    0\n",
       "2238    1\n",
       "2239    2\n",
       "Name: Kids, Length: 2240, dtype: int64"
      ]
     },
     "execution_count": 63,
     "metadata": {},
     "output_type": "execute_result"
    }
   ],
   "source": [
    "df['Kids']"
   ]
  },
  {
   "cell_type": "markdown",
   "id": "36f67474",
   "metadata": {
    "id": "36f67474"
   },
   "source": [
    "### 10. Group columns 'AcceptedCmp1 , 2 , 3 , 4, 5' and 'Response' as 'TotalAcceptedCmp'"
   ]
  },
  {
   "cell_type": "code",
   "execution_count": 64,
   "id": "ecc9109f",
   "metadata": {
    "id": "ecc9109f"
   },
   "outputs": [],
   "source": [
    "column_series = pd.Series(df.columns)"
   ]
  },
  {
   "cell_type": "code",
   "execution_count": 65,
   "id": "2d0712fa",
   "metadata": {},
   "outputs": [
    {
     "name": "stderr",
     "output_type": "stream",
     "text": [
      "C:\\Users\\user\\AppData\\Local\\Temp\\ipykernel_2404\\2581520893.py:1: UserWarning: This pattern is interpreted as a regular expression, and has match groups. To actually get the groups, use str.extract.\n",
      "  req_columns = column_series[column_series.str.contains('(AcceptedCmp|Response)')].values.tolist()\n"
     ]
    }
   ],
   "source": [
    "req_columns = column_series[column_series.str.contains('(AcceptedCmp|Response)')].values.tolist()"
   ]
  },
  {
   "cell_type": "code",
   "execution_count": 66,
   "id": "0bc3edfa",
   "metadata": {},
   "outputs": [],
   "source": [
    "df['TotalAcceptedCmp'] = df[req_columns].sum(axis=1)"
   ]
  },
  {
   "cell_type": "code",
   "execution_count": 67,
   "id": "3ee009fd",
   "metadata": {},
   "outputs": [
    {
     "data": {
      "text/plain": [
       "0       1\n",
       "1       0\n",
       "2       0\n",
       "3       0\n",
       "4       0\n",
       "       ..\n",
       "2235    0\n",
       "2236    1\n",
       "2237    1\n",
       "2238    0\n",
       "2239    1\n",
       "Name: TotalAcceptedCmp, Length: 2240, dtype: int64"
      ]
     },
     "execution_count": 67,
     "metadata": {},
     "output_type": "execute_result"
    }
   ],
   "source": [
    "df['TotalAcceptedCmp']"
   ]
  },
  {
   "cell_type": "markdown",
   "id": "886bfb08",
   "metadata": {
    "id": "886bfb08"
   },
   "source": [
    "### 11. Drop those columns which we have used above for obtaining new features"
   ]
  },
  {
   "cell_type": "code",
   "execution_count": 68,
   "id": "e853e663",
   "metadata": {
    "id": "e853e663"
   },
   "outputs": [],
   "source": [
    "df = df.drop(['AcceptedCmp1','AcceptedCmp2','AcceptedCmp3','AcceptedCmp4','AcceptedCmp5','Response','Kidhome','Teenhome','NumWebPurchases','NumCatalogPurchases','NumStorePurchases','NumDealsPurchases','MntWines', 'MntFruits', 'MntMeatProducts', 'MntFishProducts', 'MntSweetProducts','MntGoldProds'],axis=1)"
   ]
  },
  {
   "cell_type": "code",
   "execution_count": 69,
   "id": "dfdf1a3e",
   "metadata": {},
   "outputs": [
    {
     "name": "stdout",
     "output_type": "stream",
     "text": [
      "<class 'pandas.core.frame.DataFrame'>\n",
      "RangeIndex: 2240 entries, 0 to 2239\n",
      "Data columns (total 11 columns):\n",
      " #   Column               Non-Null Count  Dtype  \n",
      "---  ------               --------------  -----  \n",
      " 0   Year_Birth           2240 non-null   int64  \n",
      " 1   Education            2240 non-null   object \n",
      " 2   Marital_Status       2240 non-null   object \n",
      " 3   Income               2216 non-null   float64\n",
      " 4   Recency              2240 non-null   int64  \n",
      " 5   NumWebVisitsMonth    2240 non-null   int64  \n",
      " 6   Complain             2240 non-null   int64  \n",
      " 7   Total_Expenses       2240 non-null   int64  \n",
      " 8   Num_Total_Purchases  2240 non-null   int64  \n",
      " 9   Kids                 2240 non-null   int64  \n",
      " 10  TotalAcceptedCmp     2240 non-null   int64  \n",
      "dtypes: float64(1), int64(8), object(2)\n",
      "memory usage: 192.6+ KB\n"
     ]
    }
   ],
   "source": [
    "df.info()"
   ]
  },
  {
   "cell_type": "markdown",
   "id": "4225ced7",
   "metadata": {
    "id": "4225ced7"
   },
   "source": [
    "### 12. Extract 'age' using the column 'Year_Birth' and then drop the column 'Year_birth'"
   ]
  },
  {
   "cell_type": "code",
   "execution_count": 70,
   "id": "d517611e",
   "metadata": {
    "id": "d517611e"
   },
   "outputs": [],
   "source": [
    "import datetime"
   ]
  },
  {
   "cell_type": "code",
   "execution_count": 71,
   "id": "780cb688",
   "metadata": {},
   "outputs": [],
   "source": [
    "df['age'] = datetime.datetime.today().year - df['Year_Birth']"
   ]
  },
  {
   "cell_type": "code",
   "execution_count": 72,
   "id": "f95fbbf1",
   "metadata": {},
   "outputs": [
    {
     "data": {
      "text/plain": [
       "0       66\n",
       "1       69\n",
       "2       58\n",
       "3       39\n",
       "4       42\n",
       "        ..\n",
       "2235    56\n",
       "2236    77\n",
       "2237    42\n",
       "2238    67\n",
       "2239    69\n",
       "Name: age, Length: 2240, dtype: int64"
      ]
     },
     "execution_count": 72,
     "metadata": {},
     "output_type": "execute_result"
    }
   ],
   "source": [
    "df['age']"
   ]
  },
  {
   "cell_type": "markdown",
   "id": "f2d3c92d",
   "metadata": {
    "id": "f2d3c92d"
   },
   "source": [
    "### 13. Encode the categorical variables in the dataset"
   ]
  },
  {
   "cell_type": "code",
   "execution_count": 73,
   "id": "030cfc32",
   "metadata": {
    "id": "030cfc32"
   },
   "outputs": [],
   "source": [
    "##Label encoding\n",
    "from sklearn.preprocessing import LabelEncoder\n",
    "cate = ['Education','Marital_Status']"
   ]
  },
  {
   "cell_type": "code",
   "execution_count": 74,
   "id": "94e34999",
   "metadata": {},
   "outputs": [],
   "source": [
    "lbl_encode = LabelEncoder()"
   ]
  },
  {
   "cell_type": "code",
   "execution_count": 75,
   "id": "6246d81d",
   "metadata": {},
   "outputs": [],
   "source": [
    "for i in cate:\n",
    "    df[i] = df[[i]].apply(lbl_encode.fit_transform)\n"
   ]
  },
  {
   "cell_type": "code",
   "execution_count": 76,
   "id": "36074a29",
   "metadata": {},
   "outputs": [],
   "source": [
    "df['Income'] = df['Income'].fillna(0)"
   ]
  },
  {
   "cell_type": "code",
   "execution_count": 77,
   "id": "ca6f72b4",
   "metadata": {},
   "outputs": [
    {
     "name": "stdout",
     "output_type": "stream",
     "text": [
      "<class 'pandas.core.frame.DataFrame'>\n",
      "RangeIndex: 2240 entries, 0 to 2239\n",
      "Data columns (total 12 columns):\n",
      " #   Column               Non-Null Count  Dtype  \n",
      "---  ------               --------------  -----  \n",
      " 0   Year_Birth           2240 non-null   int64  \n",
      " 1   Education            2240 non-null   int32  \n",
      " 2   Marital_Status       2240 non-null   int32  \n",
      " 3   Income               2240 non-null   float64\n",
      " 4   Recency              2240 non-null   int64  \n",
      " 5   NumWebVisitsMonth    2240 non-null   int64  \n",
      " 6   Complain             2240 non-null   int64  \n",
      " 7   Total_Expenses       2240 non-null   int64  \n",
      " 8   Num_Total_Purchases  2240 non-null   int64  \n",
      " 9   Kids                 2240 non-null   int64  \n",
      " 10  TotalAcceptedCmp     2240 non-null   int64  \n",
      " 11  age                  2240 non-null   int64  \n",
      "dtypes: float64(1), int32(2), int64(9)\n",
      "memory usage: 192.6 KB\n"
     ]
    }
   ],
   "source": [
    "df.info()\n",
    "## The label encoder has been applied to Education and Marital_Status"
   ]
  },
  {
   "cell_type": "markdown",
   "id": "9242e36d",
   "metadata": {
    "id": "9242e36d"
   },
   "source": [
    "### 14. Standardize the columns, so that values are in a particular range"
   ]
  },
  {
   "cell_type": "code",
   "execution_count": 78,
   "id": "72475b68",
   "metadata": {
    "id": "72475b68"
   },
   "outputs": [],
   "source": [
    "from sklearn.preprocessing import StandardScaler\n",
    "\n",
    "#Standardization\n",
    "df1 = df.copy()\n",
    "scaled_features = StandardScaler().fit_transform(df1.values)\n",
    "scaled_features_df = pd.DataFrame(scaled_features, index=df1.index, columns=df1.columns)"
   ]
  },
  {
   "cell_type": "code",
   "execution_count": 42,
   "id": "fda4e7ca",
   "metadata": {},
   "outputs": [
    {
     "data": {
      "text/html": [
       "<div>\n",
       "<style scoped>\n",
       "    .dataframe tbody tr th:only-of-type {\n",
       "        vertical-align: middle;\n",
       "    }\n",
       "\n",
       "    .dataframe tbody tr th {\n",
       "        vertical-align: top;\n",
       "    }\n",
       "\n",
       "    .dataframe thead th {\n",
       "        text-align: right;\n",
       "    }\n",
       "</style>\n",
       "<table border=\"1\" class=\"dataframe\">\n",
       "  <thead>\n",
       "    <tr style=\"text-align: right;\">\n",
       "      <th></th>\n",
       "      <th>Year_Birth</th>\n",
       "      <th>Education</th>\n",
       "      <th>Marital_Status</th>\n",
       "      <th>Income</th>\n",
       "      <th>Recency</th>\n",
       "      <th>NumWebVisitsMonth</th>\n",
       "      <th>Complain</th>\n",
       "      <th>Total_Expenses</th>\n",
       "      <th>Num_Total_Purchases</th>\n",
       "      <th>Kids</th>\n",
       "      <th>TotalAcceptedCmp</th>\n",
       "      <th>age</th>\n",
       "    </tr>\n",
       "  </thead>\n",
       "  <tbody>\n",
       "    <tr>\n",
       "      <th>0</th>\n",
       "      <td>-0.985345</td>\n",
       "      <td>-0.350141</td>\n",
       "      <td>-1.346874</td>\n",
       "      <td>0.251939</td>\n",
       "      <td>0.307039</td>\n",
       "      <td>0.693904</td>\n",
       "      <td>-0.097282</td>\n",
       "      <td>1.679417</td>\n",
       "      <td>1.320826</td>\n",
       "      <td>-1.264505</td>\n",
       "      <td>0.621248</td>\n",
       "      <td>0.985345</td>\n",
       "    </tr>\n",
       "    <tr>\n",
       "      <th>1</th>\n",
       "      <td>-1.235733</td>\n",
       "      <td>-0.350141</td>\n",
       "      <td>-1.346874</td>\n",
       "      <td>-0.208699</td>\n",
       "      <td>-0.383664</td>\n",
       "      <td>-0.130463</td>\n",
       "      <td>-0.097282</td>\n",
       "      <td>-0.961275</td>\n",
       "      <td>-1.154596</td>\n",
       "      <td>1.396361</td>\n",
       "      <td>-0.501912</td>\n",
       "      <td>1.235733</td>\n",
       "    </tr>\n",
       "    <tr>\n",
       "      <th>2</th>\n",
       "      <td>-0.317643</td>\n",
       "      <td>-0.350141</td>\n",
       "      <td>0.742460</td>\n",
       "      <td>0.778231</td>\n",
       "      <td>-0.798086</td>\n",
       "      <td>-0.542647</td>\n",
       "      <td>-0.097282</td>\n",
       "      <td>0.282673</td>\n",
       "      <td>0.799685</td>\n",
       "      <td>-1.264505</td>\n",
       "      <td>-0.501912</td>\n",
       "      <td>0.317643</td>\n",
       "    </tr>\n",
       "    <tr>\n",
       "      <th>3</th>\n",
       "      <td>1.268149</td>\n",
       "      <td>-0.350141</td>\n",
       "      <td>0.742460</td>\n",
       "      <td>-0.978043</td>\n",
       "      <td>-0.798086</td>\n",
       "      <td>0.281720</td>\n",
       "      <td>-0.097282</td>\n",
       "      <td>-0.918094</td>\n",
       "      <td>-0.894025</td>\n",
       "      <td>0.065928</td>\n",
       "      <td>-0.501912</td>\n",
       "      <td>-1.268149</td>\n",
       "    </tr>\n",
       "    <tr>\n",
       "      <th>4</th>\n",
       "      <td>1.017761</td>\n",
       "      <td>1.428354</td>\n",
       "      <td>0.742460</td>\n",
       "      <td>0.257992</td>\n",
       "      <td>1.550305</td>\n",
       "      <td>-0.130463</td>\n",
       "      <td>-0.097282</td>\n",
       "      <td>-0.305254</td>\n",
       "      <td>0.539114</td>\n",
       "      <td>0.065928</td>\n",
       "      <td>-0.501912</td>\n",
       "      <td>-1.017761</td>\n",
       "    </tr>\n",
       "    <tr>\n",
       "      <th>...</th>\n",
       "      <td>...</td>\n",
       "      <td>...</td>\n",
       "      <td>...</td>\n",
       "      <td>...</td>\n",
       "      <td>...</td>\n",
       "      <td>...</td>\n",
       "      <td>...</td>\n",
       "      <td>...</td>\n",
       "      <td>...</td>\n",
       "      <td>...</td>\n",
       "      <td>...</td>\n",
       "      <td>...</td>\n",
       "    </tr>\n",
       "    <tr>\n",
       "      <th>2235</th>\n",
       "      <td>-0.150717</td>\n",
       "      <td>-0.350141</td>\n",
       "      <td>0.742460</td>\n",
       "      <td>0.372429</td>\n",
       "      <td>-0.107383</td>\n",
       "      <td>-0.130463</td>\n",
       "      <td>-0.097282</td>\n",
       "      <td>1.221032</td>\n",
       "      <td>0.408829</td>\n",
       "      <td>0.065928</td>\n",
       "      <td>-0.501912</td>\n",
       "      <td>0.150717</td>\n",
       "    </tr>\n",
       "    <tr>\n",
       "      <th>2236</th>\n",
       "      <td>-1.903435</td>\n",
       "      <td>1.428354</td>\n",
       "      <td>0.742460</td>\n",
       "      <td>0.481437</td>\n",
       "      <td>0.237969</td>\n",
       "      <td>0.693904</td>\n",
       "      <td>-0.097282</td>\n",
       "      <td>-0.268717</td>\n",
       "      <td>0.929970</td>\n",
       "      <td>2.726794</td>\n",
       "      <td>0.621248</td>\n",
       "      <td>1.903435</td>\n",
       "    </tr>\n",
       "    <tr>\n",
       "      <th>2237</th>\n",
       "      <td>1.017761</td>\n",
       "      <td>-0.350141</td>\n",
       "      <td>-1.346874</td>\n",
       "      <td>0.206750</td>\n",
       "      <td>1.446700</td>\n",
       "      <td>0.281720</td>\n",
       "      <td>-0.097282</td>\n",
       "      <td>1.054951</td>\n",
       "      <td>0.539114</td>\n",
       "      <td>-1.264505</td>\n",
       "      <td>0.621248</td>\n",
       "      <td>-1.017761</td>\n",
       "    </tr>\n",
       "    <tr>\n",
       "      <th>2238</th>\n",
       "      <td>-1.068807</td>\n",
       "      <td>0.539106</td>\n",
       "      <td>0.742460</td>\n",
       "      <td>0.685744</td>\n",
       "      <td>-1.419719</td>\n",
       "      <td>-0.954831</td>\n",
       "      <td>-0.097282</td>\n",
       "      <td>0.393948</td>\n",
       "      <td>1.060255</td>\n",
       "      <td>0.065928</td>\n",
       "      <td>-0.501912</td>\n",
       "      <td>1.068807</td>\n",
       "    </tr>\n",
       "    <tr>\n",
       "      <th>2239</th>\n",
       "      <td>-1.235733</td>\n",
       "      <td>1.428354</td>\n",
       "      <td>0.742460</td>\n",
       "      <td>0.046147</td>\n",
       "      <td>-0.314594</td>\n",
       "      <td>0.693904</td>\n",
       "      <td>-0.097282</td>\n",
       "      <td>-0.720458</td>\n",
       "      <td>-0.503169</td>\n",
       "      <td>1.396361</td>\n",
       "      <td>0.621248</td>\n",
       "      <td>1.235733</td>\n",
       "    </tr>\n",
       "  </tbody>\n",
       "</table>\n",
       "<p>2240 rows × 12 columns</p>\n",
       "</div>"
      ],
      "text/plain": [
       "      Year_Birth  Education  Marital_Status    Income   Recency  \\\n",
       "0      -0.985345  -0.350141       -1.346874  0.251939  0.307039   \n",
       "1      -1.235733  -0.350141       -1.346874 -0.208699 -0.383664   \n",
       "2      -0.317643  -0.350141        0.742460  0.778231 -0.798086   \n",
       "3       1.268149  -0.350141        0.742460 -0.978043 -0.798086   \n",
       "4       1.017761   1.428354        0.742460  0.257992  1.550305   \n",
       "...          ...        ...             ...       ...       ...   \n",
       "2235   -0.150717  -0.350141        0.742460  0.372429 -0.107383   \n",
       "2236   -1.903435   1.428354        0.742460  0.481437  0.237969   \n",
       "2237    1.017761  -0.350141       -1.346874  0.206750  1.446700   \n",
       "2238   -1.068807   0.539106        0.742460  0.685744 -1.419719   \n",
       "2239   -1.235733   1.428354        0.742460  0.046147 -0.314594   \n",
       "\n",
       "      NumWebVisitsMonth  Complain  Total_Expenses  Num_Total_Purchases  \\\n",
       "0              0.693904 -0.097282        1.679417             1.320826   \n",
       "1             -0.130463 -0.097282       -0.961275            -1.154596   \n",
       "2             -0.542647 -0.097282        0.282673             0.799685   \n",
       "3              0.281720 -0.097282       -0.918094            -0.894025   \n",
       "4             -0.130463 -0.097282       -0.305254             0.539114   \n",
       "...                 ...       ...             ...                  ...   \n",
       "2235          -0.130463 -0.097282        1.221032             0.408829   \n",
       "2236           0.693904 -0.097282       -0.268717             0.929970   \n",
       "2237           0.281720 -0.097282        1.054951             0.539114   \n",
       "2238          -0.954831 -0.097282        0.393948             1.060255   \n",
       "2239           0.693904 -0.097282       -0.720458            -0.503169   \n",
       "\n",
       "          Kids  TotalAcceptedCmp       age  \n",
       "0    -1.264505          0.621248  0.985345  \n",
       "1     1.396361         -0.501912  1.235733  \n",
       "2    -1.264505         -0.501912  0.317643  \n",
       "3     0.065928         -0.501912 -1.268149  \n",
       "4     0.065928         -0.501912 -1.017761  \n",
       "...        ...               ...       ...  \n",
       "2235  0.065928         -0.501912  0.150717  \n",
       "2236  2.726794          0.621248  1.903435  \n",
       "2237 -1.264505          0.621248 -1.017761  \n",
       "2238  0.065928         -0.501912  1.068807  \n",
       "2239  1.396361          0.621248  1.235733  \n",
       "\n",
       "[2240 rows x 12 columns]"
      ]
     },
     "execution_count": 42,
     "metadata": {},
     "output_type": "execute_result"
    }
   ],
   "source": [
    "scaled_features_df"
   ]
  },
  {
   "cell_type": "markdown",
   "id": "d063d2e2",
   "metadata": {
    "id": "d063d2e2"
   },
   "source": [
    "### 15. Apply PCA on the above dataset and determine the number of PCA components to be used so that 90-95% of the variance in data is explained by the same."
   ]
  },
  {
   "cell_type": "code",
   "execution_count": 79,
   "id": "6df3c70e",
   "metadata": {
    "id": "6df3c70e"
   },
   "outputs": [
    {
     "data": {
      "text/plain": [
       "array([[ 1.00044663, -0.17146685,  0.0042384 , -0.15496032, -0.01987996,\n",
       "         0.12119336, -0.030141  , -0.11135611, -0.16837908, -0.09023955,\n",
       "         0.00830618, -1.00044663],\n",
       "       [-0.17146685,  1.00044663, -0.01375403,  0.11771325, -0.01173369,\n",
       "        -0.04029882, -0.05056252,  0.09209518,  0.09405439,  0.05321304,\n",
       "         0.06327892,  0.17146685],\n",
       "       [ 0.0042384 , -0.01375403,  1.00044663,  0.00733686, -0.00450972,\n",
       "         0.00344176, -0.00520466, -0.01775232,  0.00671037,  0.03917598,\n",
       "        -0.06004206, -0.0042384 ],\n",
       "       [-0.15496032,  0.11771325,  0.00733686,  1.00044663, -0.01060766,\n",
       "        -0.53569091, -0.02449955,  0.65444582,  0.55599284, -0.29306798,\n",
       "         0.2845784 ,  0.15496032],\n",
       "       [-0.01987996, -0.01173369, -0.00450972, -0.01060766,  1.00044663,\n",
       "        -0.02145427,  0.01323699,  0.02044173,  0.00574294,  0.01806145,\n",
       "        -0.08900203,  0.01987996],\n",
       "       [ 0.12119336, -0.04029882,  0.00344176, -0.53569091, -0.02145427,\n",
       "         1.00044663,  0.01977734, -0.50044131, -0.31242795,  0.41860616,\n",
       "        -0.12836726, -0.12119336],\n",
       "       [-0.030141  , -0.05056252, -0.00520466, -0.02449955,  0.01323699,\n",
       "         0.01977734,  1.00044663, -0.03707503, -0.02059185,  0.03108014,\n",
       "        -0.01761676,  0.030141  ],\n",
       "       [-0.11135611,  0.09209518, -0.01775232,  0.65444582,  0.02044173,\n",
       "        -0.50044131, -0.03707503,  1.00044663,  0.75423984, -0.49911047,\n",
       "         0.4564099 ,  0.11135611],\n",
       "       [-0.16837908,  0.09405439,  0.00671037,  0.55599284,  0.00574294,\n",
       "        -0.31242795, -0.02059185,  0.75423984,  1.00044663, -0.24589955,\n",
       "         0.25816052,  0.16837908],\n",
       "       [-0.09023955,  0.05321304,  0.03917598, -0.29306798,  0.01806145,\n",
       "         0.41860616,  0.03108014, -0.49911047, -0.24589955,  1.00044663,\n",
       "        -0.25387372,  0.09023955],\n",
       "       [ 0.00830618,  0.06327892, -0.06004206,  0.2845784 , -0.08900203,\n",
       "        -0.12836726, -0.01761676,  0.4564099 ,  0.25816052, -0.25387372,\n",
       "         1.00044663, -0.00830618],\n",
       "       [-1.00044663,  0.17146685, -0.0042384 ,  0.15496032,  0.01987996,\n",
       "        -0.12119336,  0.030141  ,  0.11135611,  0.16837908,  0.09023955,\n",
       "        -0.00830618,  1.00044663]])"
      ]
     },
     "execution_count": 79,
     "metadata": {},
     "output_type": "execute_result"
    }
   ],
   "source": [
    "##Step 1\n",
    "cov_matrix = np.cov(scaled_features_df.T)\n",
    "cov_matrix"
   ]
  },
  {
   "cell_type": "code",
   "execution_count": 80,
   "id": "ebd89411",
   "metadata": {},
   "outputs": [
    {
     "name": "stdout",
     "output_type": "stream",
     "text": [
      "eigein vals: \n",
      " [3.23881961e+00 2.03995544e+00 8.45752172e-16 1.59583545e-01\n",
      " 3.51444368e-01 5.75880710e-01 7.52897095e-01 8.43979014e-01\n",
      " 1.07697756e+00 9.38408269e-01 1.02612769e+00 1.00128623e+00]\n",
      "\n",
      "\n",
      "eigein vectors \n",
      " [[-1.83810041e-01  6.43904168e-01 -7.07106781e-01  4.45389902e-03\n",
      "  -2.37180569e-02 -3.91239877e-02 -1.09591094e-01  8.34426139e-02\n",
      "   2.77578169e-02 -1.54677920e-01 -6.90842860e-02  3.23566108e-02]\n",
      " [ 9.75498944e-02 -1.91105254e-01 -2.70637618e-17  1.32727159e-02\n",
      "  -1.97736909e-02  1.20976251e-01  2.04046065e-01  5.04037717e-01\n",
      "   4.52697356e-01 -5.68461199e-01 -2.59757548e-01  2.17978326e-01]\n",
      " [-1.53482016e-02 -1.36362157e-02  4.33240385e-17  3.76584377e-04\n",
      "  -5.59993387e-03  4.88930800e-03  2.36323477e-01 -1.08396963e-01\n",
      "  -2.46515587e-01 -1.46470783e-01 -6.63639815e-01 -6.39752267e-01]\n",
      " [ 4.43475222e-01  4.85274310e-02  5.38297767e-17  9.58122926e-02\n",
      "   7.34876436e-01 -3.86718095e-01 -2.78422373e-01  1.09417551e-01\n",
      "  -4.50149897e-02 -5.96214492e-02 -7.92065385e-02 -2.92335090e-02]\n",
      " [-3.18594376e-03 -3.77449141e-02  1.02970228e-17  3.79876387e-02\n",
      "   2.65810230e-02 -5.83654607e-02  2.04735255e-01 -2.61166076e-01\n",
      "  -6.10755102e-01 -3.34275642e-01 -1.69476576e-01  6.07783250e-01]\n",
      " [-3.69871839e-01 -7.34331290e-02  1.21038576e-16 -1.07509503e-01\n",
      "   5.22532574e-01  4.56216304e-01 -7.98114793e-02 -4.79502722e-01\n",
      "   2.51124553e-01 -2.49888974e-01  4.90523803e-02 -2.93868711e-02]\n",
      " [-2.37590060e-02 -4.74478148e-02  1.87089135e-17 -6.49770852e-03\n",
      "   4.59661374e-04  2.54002782e-02  3.60796463e-02  2.09784398e-01\n",
      "  -3.68999084e-01 -5.16308354e-01  6.20710554e-01 -4.03942002e-01]\n",
      " [ 4.98868684e-01  1.36263050e-01  1.32833207e-16 -8.06306292e-01\n",
      "  -1.29514665e-01  1.79042107e-01 -8.43962094e-02 -1.37883959e-01\n",
      "  -9.30551584e-04 -8.62113408e-02 -4.34773044e-03  3.94799010e-03]\n",
      " [ 4.25090349e-01  2.73886408e-02 -2.44063569e-16  5.09816996e-01\n",
      "  -2.93989486e-01  3.85896495e-01 -4.81207857e-01 -2.25974010e-01\n",
      "   6.16988451e-04 -1.87730484e-01 -6.53642245e-02 -3.38808557e-02]\n",
      " [-2.98635809e-01 -2.78516564e-01  2.85724328e-16 -1.89345251e-01\n",
      "  -2.64000790e-01 -5.42391891e-01 -5.32358180e-01 -1.92511531e-01\n",
      "   1.19744420e-01 -2.95196254e-01 -1.05188206e-01 -2.23190027e-02]\n",
      " [ 2.64331199e-01  1.60484077e-01 -1.62740068e-16  1.77948361e-01\n",
      "  -1.08452000e-01 -3.81290467e-01  4.78852684e-01 -5.08941583e-01\n",
      "   3.79660630e-01 -1.82805798e-01  2.11005397e-01 -7.18271744e-02]\n",
      " [ 1.83810041e-01 -6.43904168e-01 -7.07106781e-01 -4.45389902e-03\n",
      "   2.37180569e-02  3.91239877e-02  1.09591094e-01 -8.34426139e-02\n",
      "  -2.77578169e-02  1.54677920e-01  6.90842860e-02 -3.23566108e-02]]\n"
     ]
    }
   ],
   "source": [
    "eig_vals, eig_vectors = np.linalg.eig(cov_matrix)\n",
    "print('eigein vals:','\\n',eig_vals)\n",
    "print('\\n')\n",
    "print('eigein vectors','\\n',eig_vectors)"
   ]
  },
  {
   "cell_type": "code",
   "execution_count": 81,
   "id": "c8bf35c5",
   "metadata": {},
   "outputs": [
    {
     "name": "stdout",
     "output_type": "stream",
     "text": [
      "Explained Variance:  [26.978114273143134, 16.992039541582724, 8.970806376511215, 8.547246683013615, 8.34032686728013, 7.816577810006013, 7.030018645310595, 6.271341502288795, 4.796863507287491, 2.9273956114092408, 1.329269182167034, 7.044788367960385e-15]\n",
      "Cummulative Variance Explained:  [ 26.97811427  43.97015381  52.94096019  61.48820687  69.82853374\n",
      "  77.64511155  84.6751302   90.9464717   95.74333521  98.67073082\n",
      " 100.         100.        ]\n"
     ]
    }
   ],
   "source": [
    "## Step3: Scree plot.\n",
    "total = sum(eig_vals)\n",
    "var_exp = [(i/total)*100 for i in sorted(eig_vals, reverse=True)]\n",
    "cum_var_exp = np.cumsum(var_exp)\n",
    "print('Explained Variance: ',var_exp)\n",
    "print('Cummulative Variance Explained: ', cum_var_exp)"
   ]
  },
  {
   "cell_type": "code",
   "execution_count": 82,
   "id": "ea97294c",
   "metadata": {},
   "outputs": [
    {
     "data": {
      "image/png": "[encoded data removed]",
      "text/plain": [
       "<Figure size 640x480 with 1 Axes>"
      ]
     },
     "metadata": {},
     "output_type": "display_data"
    }
   ],
   "source": [
    "## Scree plot.\n",
    "plt.bar(range(1,len(var_exp)+1),var_exp, align='center', color='lightgreen', edgecolor='black', label='Explained Variance')\n",
    "plt.step(range(1,len(var_exp)+1),cum_var_exp, where='mid', color='red',label='Cummulative Explained Variance')\n",
    "plt.xlabel('Principal Components')\n",
    "plt.ylabel('Explained Variance ratio')\n",
    "plt.title('Scree Plot')\n",
    "#plt.legend(loc='best')\n",
    "plt.show()\n"
   ]
  },
  {
   "cell_type": "markdown",
   "id": "b2df19d7",
   "metadata": {
    "id": "b2df19d7"
   },
   "source": [
    "### 16. Apply K-means clustering and segment the data (Use PCA transformed data for clustering)"
   ]
  },
  {
   "cell_type": "code",
   "execution_count": 83,
   "id": "a3a8bb4c",
   "metadata": {
    "id": "a3a8bb4c"
   },
   "outputs": [
    {
     "data": {
      "text/html": [
       "<div>\n",
       "<style scoped>\n",
       "    .dataframe tbody tr th:only-of-type {\n",
       "        vertical-align: middle;\n",
       "    }\n",
       "\n",
       "    .dataframe tbody tr th {\n",
       "        vertical-align: top;\n",
       "    }\n",
       "\n",
       "    .dataframe thead th {\n",
       "        text-align: right;\n",
       "    }\n",
       "</style>\n",
       "<table border=\"1\" class=\"dataframe\">\n",
       "  <thead>\n",
       "    <tr style=\"text-align: right;\">\n",
       "      <th></th>\n",
       "      <th>PC1</th>\n",
       "      <th>PC2</th>\n",
       "      <th>PC3</th>\n",
       "      <th>PC4</th>\n",
       "      <th>PC5</th>\n",
       "      <th>PC6</th>\n",
       "      <th>PC7</th>\n",
       "      <th>PC8</th>\n",
       "    </tr>\n",
       "  </thead>\n",
       "  <tbody>\n",
       "    <tr>\n",
       "      <th>0</th>\n",
       "      <td>2.146275</td>\n",
       "      <td>0.512454</td>\n",
       "      <td>-0.213800</td>\n",
       "      <td>1.193059</td>\n",
       "      <td>-0.865210</td>\n",
       "      <td>-0.327279</td>\n",
       "      <td>1.203470</td>\n",
       "      <td>0.046620</td>\n",
       "    </tr>\n",
       "    <tr>\n",
       "      <th>1</th>\n",
       "      <td>-1.120001</td>\n",
       "      <td>2.119625</td>\n",
       "      <td>-0.328601</td>\n",
       "      <td>0.997162</td>\n",
       "      <td>-0.561630</td>\n",
       "      <td>-0.981300</td>\n",
       "      <td>-0.262883</td>\n",
       "      <td>0.479410</td>\n",
       "    </tr>\n",
       "    <tr>\n",
       "      <th>2</th>\n",
       "      <td>1.347821</td>\n",
       "      <td>-0.092137</td>\n",
       "      <td>0.348886</td>\n",
       "      <td>-0.397667</td>\n",
       "      <td>0.986145</td>\n",
       "      <td>-0.885303</td>\n",
       "      <td>-0.502595</td>\n",
       "      <td>0.142480</td>\n",
       "    </tr>\n",
       "    <tr>\n",
       "      <th>3</th>\n",
       "      <td>-2.035243</td>\n",
       "      <td>-1.408013</td>\n",
       "      <td>-0.184613</td>\n",
       "      <td>-0.461245</td>\n",
       "      <td>0.833457</td>\n",
       "      <td>-0.322182</td>\n",
       "      <td>-0.471964</td>\n",
       "      <td>-0.141235</td>\n",
       "    </tr>\n",
       "    <tr>\n",
       "      <th>4</th>\n",
       "      <td>-0.161638</td>\n",
       "      <td>-0.870050</td>\n",
       "      <td>0.617296</td>\n",
       "      <td>-1.501085</td>\n",
       "      <td>-0.895169</td>\n",
       "      <td>1.688946</td>\n",
       "      <td>-0.637821</td>\n",
       "      <td>0.012793</td>\n",
       "    </tr>\n",
       "  </tbody>\n",
       "</table>\n",
       "</div>"
      ],
      "text/plain": [
       "        PC1       PC2       PC3       PC4       PC5       PC6       PC7  \\\n",
       "0  2.146275  0.512454 -0.213800  1.193059 -0.865210 -0.327279  1.203470   \n",
       "1 -1.120001  2.119625 -0.328601  0.997162 -0.561630 -0.981300 -0.262883   \n",
       "2  1.347821 -0.092137  0.348886 -0.397667  0.986145 -0.885303 -0.502595   \n",
       "3 -2.035243 -1.408013 -0.184613 -0.461245  0.833457 -0.322182 -0.471964   \n",
       "4 -0.161638 -0.870050  0.617296 -1.501085 -0.895169  1.688946 -0.637821   \n",
       "\n",
       "        PC8  \n",
       "0  0.046620  \n",
       "1  0.479410  \n",
       "2  0.142480  \n",
       "3 -0.141235  \n",
       "4  0.012793  "
      ]
     },
     "execution_count": 83,
     "metadata": {},
     "output_type": "execute_result"
    }
   ],
   "source": [
    "## Using the dimensions obtained from the PCA to apply clustering. (i.e, 8)\n",
    "from sklearn.decomposition import PCA\n",
    "pca = PCA(n_components=8)\n",
    "pca_df = pd.DataFrame(pca.fit_transform(scaled_features_df), columns=['PC1','PC2','PC3','PC4','PC5','PC6','PC7','PC8'])\n",
    "pca_df.head()                      "
   ]
  },
  {
   "cell_type": "markdown",
   "id": "53f6076f",
   "metadata": {},
   "source": [
    "#### Kmeans Clustering using PCA transformed data"
   ]
  },
  {
   "cell_type": "code",
   "execution_count": 84,
   "id": "8d8d9472",
   "metadata": {},
   "outputs": [],
   "source": [
    "## finding optimal k value by KMeans clustering using Elbow plot\n",
    "from sklearn.cluster import KMeans\n",
    "cluster_errors = []\n",
    "cluster_range = range(2,15)\n",
    "for num_clusters in cluster_range:\n",
    "    clusters = KMeans(num_clusters, random_state=100)\n",
    "    clusters.fit(pca_df)\n",
    "    cluster_errors.append(clusters.inertia_)"
   ]
  },
  {
   "cell_type": "code",
   "execution_count": 85,
   "id": "f5b46ae9",
   "metadata": {},
   "outputs": [
    {
     "data": {
      "image/png": "[encoded data removed]",
      "text/plain": [
       "<Figure size 1500x500 with 1 Axes>"
      ]
     },
     "metadata": {},
     "output_type": "display_data"
    }
   ],
   "source": [
    "### creating a dataframe of number of clusters and cluster errors.\n",
    "cluster_df = pd.DataFrame({'num_clusters':cluster_range, 'cluster_errors':cluster_errors})\n",
    "\n",
    "## Elbow plot\n",
    "plt.figure(figsize=[15,5])\n",
    "plt.plot(cluster_df['num_clusters'],cluster_df['cluster_errors'],marker='o',color='b')\n",
    "plt.show()"
   ]
  },
  {
   "cell_type": "code",
   "execution_count": null,
   "id": "76e00a58",
   "metadata": {},
   "outputs": [],
   "source": [
    "## From the above elbow plot we can see at the cluster k=3, the inertia significantly decreases. Hence we can select our optimal clusters as K=3"
   ]
  },
  {
   "cell_type": "code",
   "execution_count": 86,
   "id": "81fbdf6e",
   "metadata": {},
   "outputs": [
    {
     "data": {
      "text/plain": [
       "KMeans(n_clusters=3, random_state=100)"
      ]
     },
     "execution_count": 86,
     "metadata": {},
     "output_type": "execute_result"
    }
   ],
   "source": [
    "##Applying KMeans clustering for the optimal number of clusters obtained above.\n",
    "kmeans = KMeans(n_clusters=3, random_state=100)\n",
    "kmeans.fit(pca_df)"
   ]
  },
  {
   "cell_type": "code",
   "execution_count": 87,
   "id": "cb277daa",
   "metadata": {},
   "outputs": [],
   "source": [
    "## Creating a dataframe of the labels.\n",
    "label = pd.DataFrame(kmeans.labels_,columns=['Label'])"
   ]
  },
  {
   "cell_type": "code",
   "execution_count": 88,
   "id": "86f11931",
   "metadata": {},
   "outputs": [
    {
     "data": {
      "text/html": [
       "<div>\n",
       "<style scoped>\n",
       "    .dataframe tbody tr th:only-of-type {\n",
       "        vertical-align: middle;\n",
       "    }\n",
       "\n",
       "    .dataframe tbody tr th {\n",
       "        vertical-align: top;\n",
       "    }\n",
       "\n",
       "    .dataframe thead th {\n",
       "        text-align: right;\n",
       "    }\n",
       "</style>\n",
       "<table border=\"1\" class=\"dataframe\">\n",
       "  <thead>\n",
       "    <tr style=\"text-align: right;\">\n",
       "      <th></th>\n",
       "      <th>PC1</th>\n",
       "      <th>PC2</th>\n",
       "      <th>PC3</th>\n",
       "      <th>PC4</th>\n",
       "      <th>PC5</th>\n",
       "      <th>PC6</th>\n",
       "      <th>PC7</th>\n",
       "      <th>PC8</th>\n",
       "      <th>Label</th>\n",
       "    </tr>\n",
       "  </thead>\n",
       "  <tbody>\n",
       "    <tr>\n",
       "      <th>0</th>\n",
       "      <td>2.146275</td>\n",
       "      <td>0.512454</td>\n",
       "      <td>-0.213800</td>\n",
       "      <td>1.193059</td>\n",
       "      <td>-0.865210</td>\n",
       "      <td>-0.327279</td>\n",
       "      <td>1.203470</td>\n",
       "      <td>0.046620</td>\n",
       "      <td>0</td>\n",
       "    </tr>\n",
       "    <tr>\n",
       "      <th>1</th>\n",
       "      <td>-1.120001</td>\n",
       "      <td>2.119625</td>\n",
       "      <td>-0.328601</td>\n",
       "      <td>0.997162</td>\n",
       "      <td>-0.561630</td>\n",
       "      <td>-0.981300</td>\n",
       "      <td>-0.262883</td>\n",
       "      <td>0.479410</td>\n",
       "      <td>2</td>\n",
       "    </tr>\n",
       "    <tr>\n",
       "      <th>2</th>\n",
       "      <td>1.347821</td>\n",
       "      <td>-0.092137</td>\n",
       "      <td>0.348886</td>\n",
       "      <td>-0.397667</td>\n",
       "      <td>0.986145</td>\n",
       "      <td>-0.885303</td>\n",
       "      <td>-0.502595</td>\n",
       "      <td>0.142480</td>\n",
       "      <td>0</td>\n",
       "    </tr>\n",
       "    <tr>\n",
       "      <th>3</th>\n",
       "      <td>-2.035243</td>\n",
       "      <td>-1.408013</td>\n",
       "      <td>-0.184613</td>\n",
       "      <td>-0.461245</td>\n",
       "      <td>0.833457</td>\n",
       "      <td>-0.322182</td>\n",
       "      <td>-0.471964</td>\n",
       "      <td>-0.141235</td>\n",
       "      <td>1</td>\n",
       "    </tr>\n",
       "    <tr>\n",
       "      <th>4</th>\n",
       "      <td>-0.161638</td>\n",
       "      <td>-0.870050</td>\n",
       "      <td>0.617296</td>\n",
       "      <td>-1.501085</td>\n",
       "      <td>-0.895169</td>\n",
       "      <td>1.688946</td>\n",
       "      <td>-0.637821</td>\n",
       "      <td>0.012793</td>\n",
       "      <td>1</td>\n",
       "    </tr>\n",
       "  </tbody>\n",
       "</table>\n",
       "</div>"
      ],
      "text/plain": [
       "        PC1       PC2       PC3       PC4       PC5       PC6       PC7  \\\n",
       "0  2.146275  0.512454 -0.213800  1.193059 -0.865210 -0.327279  1.203470   \n",
       "1 -1.120001  2.119625 -0.328601  0.997162 -0.561630 -0.981300 -0.262883   \n",
       "2  1.347821 -0.092137  0.348886 -0.397667  0.986145 -0.885303 -0.502595   \n",
       "3 -2.035243 -1.408013 -0.184613 -0.461245  0.833457 -0.322182 -0.471964   \n",
       "4 -0.161638 -0.870050  0.617296 -1.501085 -0.895169  1.688946 -0.637821   \n",
       "\n",
       "        PC8  Label  \n",
       "0  0.046620      0  \n",
       "1  0.479410      2  \n",
       "2  0.142480      0  \n",
       "3 -0.141235      1  \n",
       "4  0.012793      1  "
      ]
     },
     "execution_count": 88,
     "metadata": {},
     "output_type": "execute_result"
    }
   ],
   "source": [
    "## joining the label dataframe to the pca_f dataframe\n",
    "kmeans_df = pca_df.join(label)\n",
    "kmeans_df.head()"
   ]
  },
  {
   "cell_type": "code",
   "execution_count": 89,
   "id": "f3a8deb0",
   "metadata": {},
   "outputs": [
    {
     "data": {
      "text/plain": [
       "1    863\n",
       "0    717\n",
       "2    660\n",
       "Name: Label, dtype: int64"
      ]
     },
     "execution_count": 89,
     "metadata": {},
     "output_type": "execute_result"
    }
   ],
   "source": [
    "kmeans_df['Label'].value_counts()"
   ]
  },
  {
   "cell_type": "code",
   "execution_count": 90,
   "id": "fe7fe95a",
   "metadata": {},
   "outputs": [
    {
     "name": "stderr",
     "output_type": "stream",
     "text": [
      "C:\\Users\\user\\anaconda3\\lib\\site-packages\\seaborn\\_decorators.py:36: FutureWarning: Pass the following variables as keyword args: x, y. From version 0.12, the only valid positional argument will be `data`, and passing other arguments without an explicit keyword will result in an error or misinterpretation.\n",
      "  warnings.warn(\n"
     ]
    },
    {
     "data": {
      "image/png": "[encoded data removed]",
      "text/plain": [
       "<Figure size 640x480 with 1 Axes>"
      ]
     },
     "metadata": {},
     "output_type": "display_data"
    }
   ],
   "source": [
    "## Visualing the clusters formed\n",
    "sns.scatterplot(kmeans_df['PC1'],kmeans_df['PC2'],hue='Label',data=kmeans_df)\n",
    "plt.show()"
   ]
  },
  {
   "cell_type": "markdown",
   "id": "d8463aed",
   "metadata": {
    "id": "d8463aed"
   },
   "source": [
    "### 17. Apply Agglomerative clustering and segment the data (Use Original data for clustering), and perform cluster analysis by doing bivariate analysis between the cluster label and different features and write your observations."
   ]
  },
  {
   "cell_type": "code",
   "execution_count": 91,
   "id": "b5ca165b",
   "metadata": {
    "id": "b5ca165b"
   },
   "outputs": [
    {
     "data": {
      "image/png": "[encoded data removed]",
      "text/plain": [
       "<Figure size 1800x500 with 1 Axes>"
      ]
     },
     "metadata": {},
     "output_type": "display_data"
    }
   ],
   "source": [
    "## Agglomerative clustering using the original data\n",
    "from scipy.cluster.hierarchy import dendrogram, linkage\n",
    "\n",
    "\n",
    "plt.figure(figsize=[18,5])\n",
    "merg = linkage(scaled_features,method='ward')\n",
    "dendrogram(merg, leaf_rotation=90,)\n",
    "plt.xlabel('Datapoints')\n",
    "plt.ylabel('Euclidean distance')\n",
    "plt.show()"
   ]
  },
  {
   "cell_type": "code",
   "execution_count": null,
   "id": "a7560545",
   "metadata": {},
   "outputs": [],
   "source": [
    "## Computing silhoutte score for agglomerative clustering"
   ]
  },
  {
   "cell_type": "code",
   "execution_count": 92,
   "id": "80b20406",
   "metadata": {},
   "outputs": [],
   "source": [
    "from sklearn.metrics import silhouette_score\n",
    "from sklearn.cluster import AgglomerativeClustering"
   ]
  },
  {
   "cell_type": "code",
   "execution_count": 93,
   "id": "966f3a18",
   "metadata": {},
   "outputs": [
    {
     "name": "stdout",
     "output_type": "stream",
     "text": [
      "2 0.1703582032540823\n",
      "3 0.18139391162505164\n",
      "4 0.11089097187855881\n",
      "5 0.10740036531614083\n",
      "6 0.10409248341348637\n",
      "7 0.09376869046686055\n",
      "8 0.09872443547962995\n",
      "9 0.10269100878035349\n",
      "10 0.10396470049892169\n",
      "11 0.0997965567382833\n",
      "12 0.10340233175067287\n",
      "13 0.10530188299220701\n",
      "14 0.10533529416308689\n"
     ]
    }
   ],
   "source": [
    "for i in range(2,15):\n",
    "    hier = AgglomerativeClustering(n_clusters=i)\n",
    "    hier = hier.fit(scaled_features_df)\n",
    "    labels = hier.fit_predict(scaled_features_df)\n",
    "    print(i,silhouette_score(scaled_features_df, labels))"
   ]
  },
  {
   "cell_type": "code",
   "execution_count": 94,
   "id": "b3e9f4f0",
   "metadata": {},
   "outputs": [],
   "source": [
    "## Building hierarchical clustering model using the optimal clusters as 3 using original data\n",
    "\n",
    "hie_cluster = AgglomerativeClustering(n_clusters=3, affinity='euclidean',linkage='ward')\n",
    "hie_cluster_model = hie_cluster.fit(scaled_features_df)"
   ]
  },
  {
   "cell_type": "code",
   "execution_count": 95,
   "id": "fcd237d8",
   "metadata": {},
   "outputs": [
    {
     "data": {
      "text/html": [
       "<div>\n",
       "<style scoped>\n",
       "    .dataframe tbody tr th:only-of-type {\n",
       "        vertical-align: middle;\n",
       "    }\n",
       "\n",
       "    .dataframe tbody tr th {\n",
       "        vertical-align: top;\n",
       "    }\n",
       "\n",
       "    .dataframe thead th {\n",
       "        text-align: right;\n",
       "    }\n",
       "</style>\n",
       "<table border=\"1\" class=\"dataframe\">\n",
       "  <thead>\n",
       "    <tr style=\"text-align: right;\">\n",
       "      <th></th>\n",
       "      <th>Labels</th>\n",
       "    </tr>\n",
       "  </thead>\n",
       "  <tbody>\n",
       "    <tr>\n",
       "      <th>0</th>\n",
       "      <td>1</td>\n",
       "    </tr>\n",
       "    <tr>\n",
       "      <th>1</th>\n",
       "      <td>0</td>\n",
       "    </tr>\n",
       "    <tr>\n",
       "      <th>2</th>\n",
       "      <td>1</td>\n",
       "    </tr>\n",
       "    <tr>\n",
       "      <th>3</th>\n",
       "      <td>0</td>\n",
       "    </tr>\n",
       "    <tr>\n",
       "      <th>4</th>\n",
       "      <td>0</td>\n",
       "    </tr>\n",
       "  </tbody>\n",
       "</table>\n",
       "</div>"
      ],
      "text/plain": [
       "   Labels\n",
       "0       1\n",
       "1       0\n",
       "2       1\n",
       "3       0\n",
       "4       0"
      ]
     },
     "execution_count": 95,
     "metadata": {},
     "output_type": "execute_result"
    }
   ],
   "source": [
    "## Creating a dataframe of the labels\n",
    "df_label1 = pd.DataFrame(hie_cluster_model.labels_, columns=['Labels'])\n",
    "df_label1.head(5)"
   ]
  },
  {
   "cell_type": "code",
   "execution_count": 97,
   "id": "b50edcc6",
   "metadata": {},
   "outputs": [
    {
     "data": {
      "text/html": [
       "<div>\n",
       "<style scoped>\n",
       "    .dataframe tbody tr th:only-of-type {\n",
       "        vertical-align: middle;\n",
       "    }\n",
       "\n",
       "    .dataframe tbody tr th {\n",
       "        vertical-align: top;\n",
       "    }\n",
       "\n",
       "    .dataframe thead th {\n",
       "        text-align: right;\n",
       "    }\n",
       "</style>\n",
       "<table border=\"1\" class=\"dataframe\">\n",
       "  <thead>\n",
       "    <tr style=\"text-align: right;\">\n",
       "      <th></th>\n",
       "      <th>Year_Birth</th>\n",
       "      <th>Education</th>\n",
       "      <th>Marital_Status</th>\n",
       "      <th>Income</th>\n",
       "      <th>Recency</th>\n",
       "      <th>NumWebVisitsMonth</th>\n",
       "      <th>Complain</th>\n",
       "      <th>Total_Expenses</th>\n",
       "      <th>Num_Total_Purchases</th>\n",
       "      <th>Kids</th>\n",
       "      <th>TotalAcceptedCmp</th>\n",
       "      <th>age</th>\n",
       "      <th>Labels</th>\n",
       "    </tr>\n",
       "  </thead>\n",
       "  <tbody>\n",
       "    <tr>\n",
       "      <th>0</th>\n",
       "      <td>1957</td>\n",
       "      <td>2</td>\n",
       "      <td>0</td>\n",
       "      <td>58138.0</td>\n",
       "      <td>58</td>\n",
       "      <td>7</td>\n",
       "      <td>0</td>\n",
       "      <td>1617</td>\n",
       "      <td>25</td>\n",
       "      <td>0</td>\n",
       "      <td>1</td>\n",
       "      <td>66</td>\n",
       "      <td>1</td>\n",
       "    </tr>\n",
       "    <tr>\n",
       "      <th>1</th>\n",
       "      <td>1954</td>\n",
       "      <td>2</td>\n",
       "      <td>0</td>\n",
       "      <td>46344.0</td>\n",
       "      <td>38</td>\n",
       "      <td>5</td>\n",
       "      <td>0</td>\n",
       "      <td>27</td>\n",
       "      <td>6</td>\n",
       "      <td>2</td>\n",
       "      <td>0</td>\n",
       "      <td>69</td>\n",
       "      <td>0</td>\n",
       "    </tr>\n",
       "    <tr>\n",
       "      <th>2</th>\n",
       "      <td>1965</td>\n",
       "      <td>2</td>\n",
       "      <td>1</td>\n",
       "      <td>71613.0</td>\n",
       "      <td>26</td>\n",
       "      <td>4</td>\n",
       "      <td>0</td>\n",
       "      <td>776</td>\n",
       "      <td>21</td>\n",
       "      <td>0</td>\n",
       "      <td>0</td>\n",
       "      <td>58</td>\n",
       "      <td>1</td>\n",
       "    </tr>\n",
       "    <tr>\n",
       "      <th>3</th>\n",
       "      <td>1984</td>\n",
       "      <td>2</td>\n",
       "      <td>1</td>\n",
       "      <td>26646.0</td>\n",
       "      <td>26</td>\n",
       "      <td>6</td>\n",
       "      <td>0</td>\n",
       "      <td>53</td>\n",
       "      <td>8</td>\n",
       "      <td>1</td>\n",
       "      <td>0</td>\n",
       "      <td>39</td>\n",
       "      <td>0</td>\n",
       "    </tr>\n",
       "    <tr>\n",
       "      <th>4</th>\n",
       "      <td>1981</td>\n",
       "      <td>4</td>\n",
       "      <td>1</td>\n",
       "      <td>58293.0</td>\n",
       "      <td>94</td>\n",
       "      <td>5</td>\n",
       "      <td>0</td>\n",
       "      <td>422</td>\n",
       "      <td>19</td>\n",
       "      <td>1</td>\n",
       "      <td>0</td>\n",
       "      <td>42</td>\n",
       "      <td>0</td>\n",
       "    </tr>\n",
       "  </tbody>\n",
       "</table>\n",
       "</div>"
      ],
      "text/plain": [
       "   Year_Birth  Education  Marital_Status   Income  Recency  NumWebVisitsMonth  \\\n",
       "0        1957          2               0  58138.0       58                  7   \n",
       "1        1954          2               0  46344.0       38                  5   \n",
       "2        1965          2               1  71613.0       26                  4   \n",
       "3        1984          2               1  26646.0       26                  6   \n",
       "4        1981          4               1  58293.0       94                  5   \n",
       "\n",
       "   Complain  Total_Expenses  Num_Total_Purchases  Kids  TotalAcceptedCmp  age  \\\n",
       "0         0            1617                   25     0                 1   66   \n",
       "1         0              27                    6     2                 0   69   \n",
       "2         0             776                   21     0                 0   58   \n",
       "3         0              53                    8     1                 0   39   \n",
       "4         0             422                   19     1                 0   42   \n",
       "\n",
       "   Labels  \n",
       "0       1  \n",
       "1       0  \n",
       "2       1  \n",
       "3       0  \n",
       "4       0  "
      ]
     },
     "execution_count": 97,
     "metadata": {},
     "output_type": "execute_result"
    }
   ],
   "source": [
    "## joining the label dataframe with unscaled initial cleaned dataframe .(dfc)\n",
    "\n",
    "df_hier = df.join(df_label1)\n",
    "df_hier.head()"
   ]
  },
  {
   "cell_type": "markdown",
   "id": "797a5ecd",
   "metadata": {
    "id": "797a5ecd"
   },
   "source": [
    "### Visualization and Interpretation of results"
   ]
  },
  {
   "cell_type": "code",
   "execution_count": 98,
   "id": "d1e75760",
   "metadata": {
    "id": "d1e75760"
   },
   "outputs": [
    {
     "name": "stderr",
     "output_type": "stream",
     "text": [
      "C:\\Users\\user\\anaconda3\\lib\\site-packages\\seaborn\\_decorators.py:36: FutureWarning: Pass the following variables as keyword args: x, y. From version 0.12, the only valid positional argument will be `data`, and passing other arguments without an explicit keyword will result in an error or misinterpretation.\n",
      "  warnings.warn(\n"
     ]
    },
    {
     "data": {
      "image/png": "[encoded data removed]",
      "text/plain": [
       "<Figure size 640x480 with 1 Axes>"
      ]
     },
     "metadata": {},
     "output_type": "display_data"
    }
   ],
   "source": [
    "sns.barplot(df_hier['Labels'],df_hier['Total_Expenses'])\n",
    "plt.show()"
   ]
  },
  {
   "cell_type": "code",
   "execution_count": null,
   "id": "8c344e09",
   "metadata": {},
   "outputs": [],
   "source": [
    "## The total expense for the cluster 1 is much higher compared to cluster 0 and 2"
   ]
  },
  {
   "cell_type": "code",
   "execution_count": 99,
   "id": "91b465c1",
   "metadata": {},
   "outputs": [
    {
     "name": "stderr",
     "output_type": "stream",
     "text": [
      "C:\\Users\\user\\anaconda3\\lib\\site-packages\\seaborn\\_decorators.py:36: FutureWarning: Pass the following variables as keyword args: x, y. From version 0.12, the only valid positional argument will be `data`, and passing other arguments without an explicit keyword will result in an error or misinterpretation.\n",
      "  warnings.warn(\n"
     ]
    },
    {
     "data": {
      "image/png": "[encoded data removed]",
      "text/plain": [
       "<Figure size 640x480 with 1 Axes>"
      ]
     },
     "metadata": {},
     "output_type": "display_data"
    }
   ],
   "source": [
    "sns.barplot(df_hier['Labels'],df_hier['Income'])\n",
    "plt.show()"
   ]
  },
  {
   "cell_type": "code",
   "execution_count": 100,
   "id": "59d49e43",
   "metadata": {},
   "outputs": [
    {
     "name": "stderr",
     "output_type": "stream",
     "text": [
      "C:\\Users\\user\\anaconda3\\lib\\site-packages\\seaborn\\_decorators.py:36: FutureWarning: Pass the following variables as keyword args: x, y. From version 0.12, the only valid positional argument will be `data`, and passing other arguments without an explicit keyword will result in an error or misinterpretation.\n",
      "  warnings.warn(\n"
     ]
    },
    {
     "data": {
      "image/png": "[encoded data removed]",
      "text/plain": [
       "<Figure size 640x480 with 1 Axes>"
      ]
     },
     "metadata": {},
     "output_type": "display_data"
    }
   ],
   "source": [
    "sns.barplot(df_hier['Labels'],df_hier['Num_Total_Purchases'])\n",
    "plt.show()"
   ]
  },
  {
   "cell_type": "code",
   "execution_count": 101,
   "id": "01f91270",
   "metadata": {},
   "outputs": [],
   "source": [
    "## The total number of purchases is also much higher for the cluster 1 as compared to cluster 0 and 2\n",
    "## We can conclude that the customers belong to cluster 1 does maximum purchases, has spend maximum amount and have maximum income\n",
    "## Where customers belong to cluster 0 has least total expenses and minimum balance and minimum purchases compared to other two clusters\n",
    "## Customers belong to cluster 2 does average purchase, has average income."
   ]
  },
  {
   "cell_type": "markdown",
   "id": "36afd95b",
   "metadata": {
    "id": "36afd95b"
   },
   "source": [
    "-----\n",
    "## Happy Learning\n",
    "-----"
   ]
  }
 ],
 "metadata": {
  "colab": {
   "collapsed_sections": [
    "36afd95b"
   ],
   "name": "Unsupervised Learning - Lab session.ipynb",
   "provenance": []
  },
  "kernelspec": {
   "display_name": "Python 3 (ipykernel)",
   "language": "python",
   "name": "python3"
  },
  "language_info": {
   "codemirror_mode": {
    "name": "ipython",
    "version": 3
   },
   "file_extension": ".py",
   "mimetype": "text/x-python",
   "name": "python",
   "nbconvert_exporter": "python",
   "pygments_lexer": "ipython3",
   "version": "3.9.13"
  }
 },
 "nbformat": 4,
 "nbformat_minor": 5
}
